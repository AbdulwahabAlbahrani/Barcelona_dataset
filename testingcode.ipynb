{
  "cells": [
    {
      "cell_type": "markdown",
      "metadata": {
        "id": "p9f2-PeSFck8"
      },
      "source": [
        "## Intro to python fundamentals\n"
      ]
    },
    {
      "cell_type": "code",
      "execution_count": null,
      "metadata": {},
      "outputs": [],
      "source": [
        "import numpy as np\n",
        "import pandas as pd\n",
        "import matplotlib.pyplot as plt\n",
        "import seaborn as snsa\n",
        "import plotly.express as px\n"
      ]
    },
    {
      "cell_type": "code",
      "execution_count": null,
      "metadata": {},
      "outputs": [],
      "source": [
        "air_quality = pd.read_csv('Barcelona_data_sets/air_quality_Nov2017.csv')\n",
        "air_station = pd.read_csv('Barcelona_data_sets/air_stations_Nov2017.csv')\n",
        "population = pd.read_csv('Barcelona_data_sets/population.csv')\n",
        "life_exp = pd.read_csv('Barcelona_data_sets/life_expectancy2018.csv')\n"
      ]
    },
    {
      "cell_type": "code",
      "execution_count": null,
      "metadata": {},
      "outputs": [],
      "source": [
        "air_quality.head()\n",
        "#Date Time\n",
        "#https://timestamp.online/?ref=xranks"
      ]
    },
    {
      "cell_type": "code",
      "execution_count": null,
      "metadata": {},
      "outputs": [],
      "source": [
        "#join all Data\n",
        "all_data = air_quality.append(air_station).append(population).append(life_exp)\n",
        "# %%\n",
        "all_data.head(2)"
      ]
    },
    {
      "cell_type": "markdown",
      "metadata": {},
      "source": [
        "## Life expectency"
      ]
    },
    {
      "cell_type": "markdown",
      "metadata": {},
      "source": [
        "### Data Dictionary "
      ]
    },
    {
      "cell_type": "markdown",
      "metadata": {},
      "source": [
        "\n",
        "**Year_period**: This column shows the period at which the life expictancy was measured.\n",
        "\n",
        "**District_code**: This column shows the code of the distrect of the noghborhood at whcih the life expectancy was measured, [1 throught 10]\n",
        "\n",
        "**District_name** This column shows the names of the distrect of the noghborhood at whcih the life expectancy was measured\n",
        "- Nou Barris\n",
        "- Horta-Guinardó\n",
        "- Sant Martí\n",
        "- Sants-Montjuïc\n",
        "- Sant Andreu\n",
        "- Eixample\n",
        "- Sarrià-Sant Gervasi\n",
        "- Gràcia\n",
        "- Ciutat Vella\n",
        "- Les Corts\n",
        "\n",
        "**Bar_code**: this column shows the distric code of the nighborhood at whcih the life expectancy was measured, [1 through 73]\n",
        "\n",
        "**Neighbor_Name**: this column shows the nighborhood at which the data was collected\n",
        "\n",
        "**Value**: this column shows the expected life lenght of the resedence of nighborhoods in Barsalonas"
      ]
    },
    {
      "cell_type": "code",
      "execution_count": null,
      "metadata": {},
      "outputs": [],
      "source": [
        "# to import GeoJason: A jason file with feature \n",
        "from urllib.request import urlopen\n",
        "import json\n",
        "with urlopen('https://raw.githubusercontent.com/plotly/datasets/master/geojson-counties-fips.json') as response:\n",
        "    counties = json.load(response)\n",
        "\n",
        "counties[\"features\"][6]"
      ]
    },
    {
      "cell_type": "code",
      "execution_count": null,
      "metadata": {},
      "outputs": [],
      "source": [
        "import pandas as pd\n",
        "df = pd.read_csv(\"https://raw.githubusercontent.com/plotly/datasets/master/fips-unemp-16.csv\",\n",
        "                   dtype={\"fips\": str})\n",
        "df.head()"
      ]
    },
    {
      "cell_type": "code",
      "execution_count": null,
      "metadata": {},
      "outputs": [],
      "source": [
        "import requests\n",
        "import plotly.express as px\n",
        "import pandas as pd\n",
        "\n",
        "# get Spain municipal boundaries\n",
        "res = requests.get(\n",
        "    \"https://raw.githubusercontent.com/codeforgermany/click_that_hood/main/public/data/spain-provinces.geojson\"\n",
        ")\n",
        "\n",
        "# get some cities in Spain\n",
        "df = (\n",
        "    pd.json_normalize(\n",
        "        requests.get(\n",
        "            \"https://opendata.arcgis.com/datasets/6996f03a1b364dbab4008d99380370ed_0.geojson\"\n",
        "        ).json()[\"features\"]\n",
        "    )\n",
        "    .loc[\n",
        "        lambda d: d[\"properties.CNTRY_NAME\"].eq(\"Spain\"),\n",
        "        [\"properties.CITY_NAME\", \"geometry.coordinates\"],\n",
        "    ]\n",
        "\n",
        "    .assign(\n",
        "        lon=lambda d: d[\"geometry.coordinates\"].apply(lambda v: v[0]),\n",
        "        lat=lambda d: d[\"geometry.coordinates\"].apply(lambda v: v[1]),\n",
        "    )\n",
        ")\n",
        "\n",
        "# get station locations\n",
        "\n",
        "\n",
        "# scatter the cities and add layer that shows municiple boundary\n",
        "px.scatter_mapbox(df, lat=\"lat\", lon=\"lon\", hover_name=\"properties.CITY_NAME\").update_layout(\n",
        "    mapbox={\n",
        "        \"style\": \"carto-positron\",\n",
        "        \"zoom\": 3.5,\n",
        "        \"layers\": [\n",
        "            {\n",
        "                \"source\": res.json(),\n",
        "                \"type\": \"line\",\n",
        "                \"color\": \"green\",\n",
        "                \"line\": {\"width\": 1},\n",
        "            }\n",
        "        ],\n",
        "    }\n",
        ")\n"
      ]
    },
    {
      "cell_type": "code",
      "execution_count": null,
      "metadata": {},
      "outputs": [],
      "source": [
        "df.info()"
      ]
    },
    {
      "cell_type": "code",
      "execution_count": null,
      "metadata": {},
      "outputs": [],
      "source": [
        "df['geometry.coordinates']"
      ]
    },
    {
      "cell_type": "code",
      "execution_count": null,
      "metadata": {},
      "outputs": [],
      "source": [
        "#creating a list of the stations\n",
        "stationSer = air_station.Station\n",
        "stationList = []\n",
        "for i in stationSer:\n",
        "    i = i.split()\n",
        "    stationList.append(i[2])\n",
        "stationList"
      ]
    },
    {
      "cell_type": "code",
      "execution_count": null,
      "metadata": {},
      "outputs": [],
      "source": [
        "#creating a list of the coordinates:\n",
        "air_station.Longitude\n",
        "air_station.Latitude\n",
        "stationLocation = []\n",
        "x = range(0,len(air_station))\n",
        "for i in x:\n",
        "    stationLocation.append([air_station.Longitude[i],air_station.Latitude[i]])\n",
        "\n",
        "stationLocation"
      ]
    },
    {
      "cell_type": "code",
      "execution_count": null,
      "metadata": {},
      "outputs": [],
      "source": [
        "DotSize = 15"
      ]
    },
    {
      "cell_type": "code",
      "execution_count": 131,
      "metadata": {},
      "outputs": [
        {
          "ename": "NameError",
          "evalue": "name 'zmin' is not defined",
          "output_type": "error",
          "traceback": [
            "\u001b[0;31m---------------------------------------------------------------------------\u001b[0m",
            "\u001b[0;31mNameError\u001b[0m                                 Traceback (most recent call last)",
            "\u001b[1;32m/home/abdulwahab/Documents/Misk/Barcelona_datasets/testingcode.ipynb Cell 17'\u001b[0m in \u001b[0;36m<module>\u001b[0;34m\u001b[0m\n\u001b[1;32m      <a href='vscode-notebook-cell:/home/abdulwahab/Documents/Misk/Barcelona_datasets/testingcode.ipynb#ch0000018?line=7'>8</a>\u001b[0m fig\u001b[39m.\u001b[39mupdate_layout(\n\u001b[1;32m      <a href='vscode-notebook-cell:/home/abdulwahab/Documents/Misk/Barcelona_datasets/testingcode.ipynb#ch0000018?line=8'>9</a>\u001b[0m         title \u001b[39m=\u001b[39m\u001b[39m'\u001b[39m\u001b[39mAvrage NO2 readings in air stations in Barsalona<br>(Hover for station location)\u001b[39m\u001b[39m'\u001b[39m,\n\u001b[1;32m     <a href='vscode-notebook-cell:/home/abdulwahab/Documents/Misk/Barcelona_datasets/testingcode.ipynb#ch0000018?line=9'>10</a>\u001b[0m         geo_scope\u001b[39m=\u001b[39m\u001b[39m'\u001b[39m\u001b[39mworld\u001b[39m\u001b[39m'\u001b[39m,\n\u001b[0;32m   (...)\u001b[0m\n\u001b[1;32m     <a href='vscode-notebook-cell:/home/abdulwahab/Documents/Misk/Barcelona_datasets/testingcode.ipynb#ch0000018?line=21'>22</a>\u001b[0m     }\n\u001b[1;32m     <a href='vscode-notebook-cell:/home/abdulwahab/Documents/Misk/Barcelona_datasets/testingcode.ipynb#ch0000018?line=22'>23</a>\u001b[0m     )\n\u001b[1;32m     <a href='vscode-notebook-cell:/home/abdulwahab/Documents/Misk/Barcelona_datasets/testingcode.ipynb#ch0000018?line=23'>24</a>\u001b[0m fig\u001b[39m.\u001b[39mupdate_traces(marker_size\u001b[39m=\u001b[39mDotSize)\n\u001b[0;32m---> <a href='vscode-notebook-cell:/home/abdulwahab/Documents/Misk/Barcelona_datasets/testingcode.ipynb#ch0000018?line=24'>25</a>\u001b[0m fig\u001b[39m.\u001b[39mupdate(zmin)\n\u001b[1;32m     <a href='vscode-notebook-cell:/home/abdulwahab/Documents/Misk/Barcelona_datasets/testingcode.ipynb#ch0000018?line=25'>26</a>\u001b[0m fig\u001b[39m.\u001b[39mshow()\n\u001b[1;32m     <a href='vscode-notebook-cell:/home/abdulwahab/Documents/Misk/Barcelona_datasets/testingcode.ipynb#ch0000018?line=27'>28</a>\u001b[0m \u001b[39m###\u001b[39;00m\n",
            "\u001b[0;31mNameError\u001b[0m: name 'zmin' is not defined"
          ]
        }
      ],
      "source": [
        "\n",
        "fig = go.Figure(data=px.scatter_mapbox(\n",
        "        lat = air_station.Latitude,\n",
        "        lon = air_station.Longitude,\n",
        "        text = stationList,\n",
        "        color= O3_Av_Value,\n",
        "        ))\n",
        "\n",
        "fig.update_layout(\n",
        "        title ='Avrage NO2 readings in air stations in Barsalona<br>(Hover for station location)',\n",
        "        geo_scope='world',\n",
        "        mapbox={\n",
        "        \"style\": \"carto-positron\",\n",
        "        \"zoom\": 11.2,\n",
        "        \"layers\": [\n",
        "            {\n",
        "                \"source\": res.json(),\n",
        "                \"type\": \"line\",\n",
        "                \"color\": \"green\",\n",
        "                \"line\": {\"width\": 1},\n",
        "            }\n",
        "        ],\n",
        "    }\n",
        "    )\n",
        "fig.update_traces(marker_size=DotSize)\n",
        "fig.update(zmin)\n",
        "fig.show()\n",
        "\n",
        "###\n",
        "fig = go.Figure(data=px.scatter_mapbox(\n",
        "        lat = air_station.Latitude,\n",
        "        lon = air_station.Longitude,\n",
        "        text = stationList,\n",
        "        color= NO2_Av_Value\n",
        "        ))\n",
        "\n",
        "fig.update_layout(\n",
        "        title = 'Avrage NO2 readings in air stations in Barsalona<br>(Hover for station location)',\n",
        "        geo_scope='world',\n",
        "        mapbox={\n",
        "        \"style\": \"carto-positron\",\n",
        "        \"zoom\": 11.2,\n",
        "        \"layers\": [\n",
        "            {\n",
        "                \"source\": res.json(),\n",
        "                \"type\": \"line\",\n",
        "                \"color\": \"green\",\n",
        "                \"line\": {\"width\": 1},\n",
        "            }\n",
        "        ],\n",
        "    }\n",
        "    )\n",
        "fig.update_traces(marker_size=DotSize)\n",
        "fig.show()\n",
        "\n",
        "##\n",
        "\n",
        "fig = go.Figure(data=px.scatter_mapbox(\n",
        "        lat = air_station.Latitude,\n",
        "        lon = air_station.Longitude,\n",
        "        text = stationList,\n",
        "        color= PM10_Av_Value\n",
        "        ))\n",
        "\n",
        "fig.update_layout(\n",
        "        title = 'Avrage PM10 readings in air stations in Barsalona<br>(Hover for station location)',\n",
        "        geo_scope='world',\n",
        "        mapbox={\n",
        "        \"style\": \"carto-positron\",\n",
        "        \"zoom\": 11.2,\n",
        "        \"layers\": [\n",
        "            {\n",
        "                \"source\": res.json(),\n",
        "                \"type\": \"line\",\n",
        "                \"color\": \"green\",\n",
        "                \"line\": {\"width\": 1},\n",
        "            }\n",
        "        ],\n",
        "    }\n",
        "    )\n",
        "fig.update_traces(marker_size=DotSize)\n",
        "fig.show()"
      ]
    },
    {
      "cell_type": "code",
      "execution_count": null,
      "metadata": {},
      "outputs": [],
      "source": []
    },
    {
      "cell_type": "code",
      "execution_count": null,
      "metadata": {},
      "outputs": [],
      "source": []
    },
    {
      "cell_type": "code",
      "execution_count": null,
      "metadata": {},
      "outputs": [],
      "source": [
        "air_quality['O3 Value'].fillna(air_quality['O3 Value'].mean(), inplace = True)\n",
        "\n",
        "air_quality['NO2 Value'].fillna(air_quality['NO2 Value'].mean(), inplace = True)\n",
        "air_quality['PM10 Value'].fillna(air_quality['PM10 Value'].mean(), inplace = True)"
      ]
    },
    {
      "cell_type": "code",
      "execution_count": null,
      "metadata": {},
      "outputs": [],
      "source": [
        "#calculatung avrage values based on location\n",
        "\n",
        "\n",
        "\n",
        "O3_Av_Value = air_quality.groupby(\"Station\")[\"O3 Value\"].mean()\n",
        "NO2_Av_Value = air_quality.groupby(\"Station\")[\"NO2 Value\"].mean()\n",
        "PM10_Av_Value = air_quality.groupby(\"Station\")[\"PM10 Value\"].mean()\n",
        "O3_Av_Value"
      ]
    },
    {
      "cell_type": "code",
      "execution_count": 126,
      "metadata": {},
      "outputs": [
        {
          "data": {
            "text/plain": [
              "0"
            ]
          },
          "execution_count": 126,
          "metadata": {},
          "output_type": "execute_result"
        }
      ],
      "source": [
        "def get_hour(x):\n",
        "    h =  int(x.strftime(\"%H\")) -1 \n",
        "    if h < 0:\n",
        "        return str(h+1) + 'h'\n",
        "    return str(h) + 'h'\n",
        "\n",
        "#--- change 'generated' to datetime \n",
        "air_quality['Generated'] = air_quality['Generated'].apply(pd.to_datetime)\n",
        "\n",
        "#--- create a column 'read_hour' that gets hour from 'generated' \n",
        "air_quality['read_hour'] = air_quality['Generated'].apply(get_hour)\n",
        "\n",
        "#--- replace null values for 'O3 hour', 'NO2 hour', 'PM10 hour'\n",
        "air_quality.loc[(air_quality['O3 Hour'].isnull()), 'O3 Hour'] = air_quality.read_hour\n",
        "air_quality['O3 Hour'].isnull().sum()\n",
        "air_quality.loc[(air_quality['NO2 Hour'].isnull()), 'NO2 Hour'] = air_quality.read_hour\n",
        "air_quality['NO2 Hour'].isnull().sum()\n",
        "air_quality.loc[(air_quality['PM10 Hour'].isnull()), 'PM10 Hour'] = air_quality.read_hour\n",
        "air_quality['PM10 Hour'].isnull().sum()\n"
      ]
    },
    {
      "cell_type": "code",
      "execution_count": 130,
      "metadata": {},
      "outputs": [
        {
          "name": "stderr",
          "output_type": "stream",
          "text": [
            "/tmp/ipykernel_6363/4097098254.py:4: FutureWarning:\n",
            "\n",
            "Indexing with multiple keys (implicitly converted to a tuple of keys) will be deprecated, use a list instead.\n",
            "\n"
          ]
        },
        {
          "data": {
            "application/vnd.plotly.v1+json": {
              "config": {
                "plotlyServerURL": "https://plot.ly"
              },
              "data": [
                {
                  "hovertemplate": "Station=Barcelona - Ciutadella<br>hour=%{x}<br>O3 Value=%{y}<extra></extra>",
                  "legendgroup": "Barcelona - Ciutadella",
                  "line": {
                    "color": "#636efa",
                    "dash": "solid"
                  },
                  "marker": {
                    "symbol": "circle"
                  },
                  "mode": "lines",
                  "name": "Barcelona - Ciutadella",
                  "orientation": "v",
                  "showlegend": true,
                  "type": "scatter",
                  "x": [
                    0,
                    1,
                    2,
                    3,
                    4,
                    5,
                    6,
                    7,
                    8,
                    9,
                    10,
                    11,
                    12,
                    13,
                    14,
                    15,
                    16,
                    17,
                    18,
                    19,
                    20,
                    21,
                    22
                  ],
                  "xaxis": "x",
                  "y": [
                    19.033898305084747,
                    18.566666666666666,
                    22.302763553604812,
                    24.43609688693815,
                    25.602763553604813,
                    23.06943022027148,
                    21.533333333333335,
                    17.2,
                    12.033333333333333,
                    11.620689655172415,
                    14.8,
                    23.6875,
                    31.107142857142858,
                    36.87096774193548,
                    37.87350435974405,
                    41,
                    42.86666666666667,
                    40.80912601961756,
                    35.03448275862069,
                    25.902763553604814,
                    21.36943022027148,
                    20.505527107209623,
                    21.577720881085913
                  ],
                  "yaxis": "y"
                },
                {
                  "hovertemplate": "Station=Barcelona - Eixample<br>hour=%{x}<br>O3 Value=%{y}<extra></extra>",
                  "legendgroup": "Barcelona - Eixample",
                  "line": {
                    "color": "#EF553B",
                    "dash": "solid"
                  },
                  "marker": {
                    "symbol": "circle"
                  },
                  "mode": "lines",
                  "name": "Barcelona - Eixample",
                  "orientation": "v",
                  "showlegend": true,
                  "type": "scatter",
                  "x": [
                    0,
                    1,
                    2,
                    3,
                    4,
                    5,
                    6,
                    7,
                    8,
                    9,
                    10,
                    11,
                    12,
                    13,
                    14,
                    15,
                    16,
                    17,
                    18,
                    19,
                    20,
                    21,
                    22
                  ],
                  "xaxis": "x",
                  "y": [
                    14.631334234312424,
                    14.736096886938146,
                    17.205527107209623,
                    19.03886044054296,
                    19.608290660814433,
                    19.308290660814432,
                    20.708290660814434,
                    17.305527107209624,
                    11.34438754775258,
                    9.27872091752222,
                    11.736096886938146,
                    16.97652249451353,
                    25.76184380116348,
                    27.978439562341208,
                    29.91370481547814,
                    27.9749573274811,
                    29.477720881085915,
                    26.14240429163619,
                    20.729855628147888,
                    14.811054214419247,
                    13.34438754775258,
                    12.041623994147768,
                    15.849914654962204
                  ],
                  "yaxis": "y"
                },
                {
                  "hovertemplate": "Station=Barcelona - Gràcia<br>hour=%{x}<br>O3 Value=%{y}<extra></extra>",
                  "legendgroup": "Barcelona - Gràcia",
                  "line": {
                    "color": "#00cc96",
                    "dash": "solid"
                  },
                  "marker": {
                    "symbol": "circle"
                  },
                  "mode": "lines",
                  "name": "Barcelona - Gràcia",
                  "orientation": "v",
                  "showlegend": true,
                  "type": "scatter",
                  "x": [
                    0,
                    1,
                    2,
                    3,
                    4,
                    5,
                    6,
                    7,
                    8,
                    9,
                    10,
                    11,
                    12,
                    13,
                    14,
                    15,
                    16,
                    17,
                    18,
                    19,
                    20,
                    21,
                    22
                  ],
                  "xaxis": "x",
                  "y": [
                    20.9250906145256,
                    25.238860440542958,
                    27.905527107209625,
                    30.211054214419246,
                    31.94162399414777,
                    32.708290660814434,
                    33.105527107209625,
                    27.466666666666665,
                    18.033333333333335,
                    14.517241379310345,
                    17.533333333333335,
                    22.033840831504513,
                    31.83031142230118,
                    37.82249805318923,
                    38.57173607782794,
                    39.641623994147764,
                    38.58324798829553,
                    34.49991740802793,
                    29,
                    23.405527107209625,
                    20.41105421441925,
                    19.777720881085916,
                    22.291538649109974
                  ],
                  "yaxis": "y"
                },
                {
                  "hovertemplate": "Station=Barcelona - Observ Fabra<br>hour=%{x}<br>O3 Value=%{y}<extra></extra>",
                  "legendgroup": "Barcelona - Observ Fabra",
                  "line": {
                    "color": "#ab63fa",
                    "dash": "solid"
                  },
                  "marker": {
                    "symbol": "circle"
                  },
                  "mode": "lines",
                  "name": "Barcelona - Observ Fabra",
                  "orientation": "v",
                  "showlegend": true,
                  "type": "scatter",
                  "x": [
                    0,
                    1,
                    2,
                    3,
                    4,
                    5,
                    6,
                    7,
                    8,
                    9,
                    10,
                    11,
                    12,
                    13,
                    14,
                    15,
                    16,
                    17,
                    18,
                    19,
                    20,
                    21,
                    22
                  ],
                  "xaxis": "x",
                  "y": [
                    66.89971028149397,
                    60.969430220271484,
                    61.936096886938145,
                    64.63609688693815,
                    66.40276355360481,
                    70.23609688693814,
                    68.20276355360481,
                    66.66943022027148,
                    68.46943022027148,
                    68.58620689655173,
                    65.63333333333334,
                    65.3125,
                    63.107142857142854,
                    64.61290322580645,
                    62.3448275862069,
                    64.43333333333334,
                    63.06943022027148,
                    62.7446098905853,
                    60.37931034482759,
                    59.902763553604814,
                    62.23609688693815,
                    62.936096886938145,
                    62.04715110135739
                  ],
                  "yaxis": "y"
                },
                {
                  "hovertemplate": "Station=Barcelona - Palau Reial<br>hour=%{x}<br>O3 Value=%{y}<extra></extra>",
                  "legendgroup": "Barcelona - Palau Reial",
                  "line": {
                    "color": "#FFA15A",
                    "dash": "solid"
                  },
                  "marker": {
                    "symbol": "circle"
                  },
                  "mode": "lines",
                  "name": "Barcelona - Palau Reial",
                  "orientation": "v",
                  "showlegend": true,
                  "type": "scatter",
                  "x": [
                    0,
                    1,
                    2,
                    3,
                    4,
                    5,
                    6,
                    7,
                    8,
                    9,
                    10,
                    11,
                    12,
                    13,
                    14,
                    15,
                    16,
                    17,
                    18,
                    19,
                    20,
                    21,
                    22
                  ],
                  "xaxis": "x",
                  "y": [
                    27.47457627118644,
                    31.166666666666668,
                    32.8,
                    36.666666666666664,
                    34.766666666666666,
                    33.63333333333333,
                    34.96666666666667,
                    31.866666666666667,
                    27.133333333333333,
                    23.413793103448278,
                    26.266666666666666,
                    32.0625,
                    37.574389521719446,
                    41.712351826069174,
                    41.55458298648774,
                    41.502763553604815,
                    41.20276355360481,
                    37.712351826069174,
                    29.38216919338429,
                    23.202763553604814,
                    21.602763553604813,
                    25.66943022027148,
                    28.51934487523368
                  ],
                  "yaxis": "y"
                },
                {
                  "hovertemplate": "Station=Barcelona - Poblenou<br>hour=%{x}<br>O3 Value=%{y}<extra></extra>",
                  "legendgroup": "Barcelona - Poblenou",
                  "line": {
                    "color": "#19d3f3",
                    "dash": "solid"
                  },
                  "marker": {
                    "symbol": "circle"
                  },
                  "mode": "lines",
                  "name": "Barcelona - Poblenou",
                  "orientation": "v",
                  "showlegend": true,
                  "type": "scatter",
                  "x": [
                    0,
                    1,
                    2,
                    3,
                    4,
                    5,
                    6,
                    7,
                    8,
                    9,
                    10,
                    11,
                    12,
                    13,
                    14,
                    15,
                    16,
                    17,
                    18,
                    19,
                    20,
                    21,
                    22
                  ],
                  "xaxis": "x",
                  "y": [
                    34.082906608144356,
                    34.082906608144356,
                    34.082906608144356,
                    34.082906608144356,
                    34.082906608144356,
                    34.082906608144356,
                    34.082906608144356,
                    34.082906608144356,
                    34.082906608144356,
                    34.082906608144356,
                    34.082906608144356,
                    34.082906608144356,
                    34.082906608144356,
                    34.082906608144356,
                    34.082906608144356,
                    34.082906608144356,
                    34.082906608144356,
                    34.082906608144356,
                    34.082906608144356,
                    34.082906608144356,
                    34.082906608144356,
                    34.082906608144356,
                    34.082906608144356
                  ],
                  "yaxis": "y"
                },
                {
                  "hovertemplate": "Station=Barcelona - Sants<br>hour=%{x}<br>O3 Value=%{y}<extra></extra>",
                  "legendgroup": "Barcelona - Sants",
                  "line": {
                    "color": "#FF6692",
                    "dash": "solid"
                  },
                  "marker": {
                    "symbol": "circle"
                  },
                  "mode": "lines",
                  "name": "Barcelona - Sants",
                  "orientation": "v",
                  "showlegend": true,
                  "type": "scatter",
                  "x": [
                    0,
                    1,
                    2,
                    3,
                    4,
                    5,
                    6,
                    7,
                    8,
                    9,
                    10,
                    11,
                    12,
                    13,
                    14,
                    15,
                    16,
                    17,
                    18,
                    19,
                    20,
                    21,
                    22
                  ],
                  "xaxis": "x",
                  "y": [
                    34.082906608144356,
                    34.082906608144356,
                    34.082906608144356,
                    34.082906608144356,
                    34.082906608144356,
                    34.082906608144356,
                    34.082906608144356,
                    34.082906608144356,
                    34.082906608144356,
                    34.082906608144356,
                    34.082906608144356,
                    34.082906608144356,
                    34.082906608144356,
                    34.082906608144356,
                    34.082906608144356,
                    34.082906608144356,
                    34.082906608144356,
                    34.082906608144356,
                    34.082906608144356,
                    34.082906608144356,
                    34.082906608144356,
                    34.082906608144356,
                    34.082906608144356
                  ],
                  "yaxis": "y"
                },
                {
                  "hovertemplate": "Station=Barcelona - Vall Hebron<br>hour=%{x}<br>O3 Value=%{y}<extra></extra>",
                  "legendgroup": "Barcelona - Vall Hebron",
                  "line": {
                    "color": "#B6E880",
                    "dash": "solid"
                  },
                  "marker": {
                    "symbol": "circle"
                  },
                  "mode": "lines",
                  "name": "Barcelona - Vall Hebron",
                  "orientation": "v",
                  "showlegend": true,
                  "type": "scatter",
                  "x": [
                    0,
                    1,
                    2,
                    3,
                    4,
                    5,
                    6,
                    7,
                    8,
                    9,
                    10,
                    11,
                    12,
                    13,
                    14,
                    15,
                    16,
                    17,
                    18,
                    19,
                    20,
                    21,
                    22
                  ],
                  "xaxis": "x",
                  "y": [
                    30.152542372881356,
                    31.166666666666668,
                    35.63333333333333,
                    37.733333333333334,
                    40.833333333333336,
                    41.2,
                    37.36666666666667,
                    31.133333333333333,
                    27.133333333333333,
                    28.310344827586206,
                    33.3,
                    39.28125,
                    41.32142857142857,
                    48.61290322580645,
                    46.86206896551724,
                    49.733333333333334,
                    48.86943022027148,
                    43.903225806451616,
                    34.41379310344828,
                    27.8,
                    27.066666666666666,
                    27.966666666666665,
                    31.61658132162887
                  ],
                  "yaxis": "y"
                }
              ],
              "layout": {
                "legend": {
                  "title": {
                    "text": "Station"
                  },
                  "tracegroupgap": 0
                },
                "margin": {
                  "t": 60
                },
                "template": {
                  "data": {
                    "bar": [
                      {
                        "error_x": {
                          "color": "#2a3f5f"
                        },
                        "error_y": {
                          "color": "#2a3f5f"
                        },
                        "marker": {
                          "line": {
                            "color": "#E5ECF6",
                            "width": 0.5
                          },
                          "pattern": {
                            "fillmode": "overlay",
                            "size": 10,
                            "solidity": 0.2
                          }
                        },
                        "type": "bar"
                      }
                    ],
                    "barpolar": [
                      {
                        "marker": {
                          "line": {
                            "color": "#E5ECF6",
                            "width": 0.5
                          },
                          "pattern": {
                            "fillmode": "overlay",
                            "size": 10,
                            "solidity": 0.2
                          }
                        },
                        "type": "barpolar"
                      }
                    ],
                    "carpet": [
                      {
                        "aaxis": {
                          "endlinecolor": "#2a3f5f",
                          "gridcolor": "white",
                          "linecolor": "white",
                          "minorgridcolor": "white",
                          "startlinecolor": "#2a3f5f"
                        },
                        "baxis": {
                          "endlinecolor": "#2a3f5f",
                          "gridcolor": "white",
                          "linecolor": "white",
                          "minorgridcolor": "white",
                          "startlinecolor": "#2a3f5f"
                        },
                        "type": "carpet"
                      }
                    ],
                    "choropleth": [
                      {
                        "colorbar": {
                          "outlinewidth": 0,
                          "ticks": ""
                        },
                        "type": "choropleth"
                      }
                    ],
                    "contour": [
                      {
                        "colorbar": {
                          "outlinewidth": 0,
                          "ticks": ""
                        },
                        "colorscale": [
                          [
                            0,
                            "#0d0887"
                          ],
                          [
                            0.1111111111111111,
                            "#46039f"
                          ],
                          [
                            0.2222222222222222,
                            "#7201a8"
                          ],
                          [
                            0.3333333333333333,
                            "#9c179e"
                          ],
                          [
                            0.4444444444444444,
                            "#bd3786"
                          ],
                          [
                            0.5555555555555556,
                            "#d8576b"
                          ],
                          [
                            0.6666666666666666,
                            "#ed7953"
                          ],
                          [
                            0.7777777777777778,
                            "#fb9f3a"
                          ],
                          [
                            0.8888888888888888,
                            "#fdca26"
                          ],
                          [
                            1,
                            "#f0f921"
                          ]
                        ],
                        "type": "contour"
                      }
                    ],
                    "contourcarpet": [
                      {
                        "colorbar": {
                          "outlinewidth": 0,
                          "ticks": ""
                        },
                        "type": "contourcarpet"
                      }
                    ],
                    "heatmap": [
                      {
                        "colorbar": {
                          "outlinewidth": 0,
                          "ticks": ""
                        },
                        "colorscale": [
                          [
                            0,
                            "#0d0887"
                          ],
                          [
                            0.1111111111111111,
                            "#46039f"
                          ],
                          [
                            0.2222222222222222,
                            "#7201a8"
                          ],
                          [
                            0.3333333333333333,
                            "#9c179e"
                          ],
                          [
                            0.4444444444444444,
                            "#bd3786"
                          ],
                          [
                            0.5555555555555556,
                            "#d8576b"
                          ],
                          [
                            0.6666666666666666,
                            "#ed7953"
                          ],
                          [
                            0.7777777777777778,
                            "#fb9f3a"
                          ],
                          [
                            0.8888888888888888,
                            "#fdca26"
                          ],
                          [
                            1,
                            "#f0f921"
                          ]
                        ],
                        "type": "heatmap"
                      }
                    ],
                    "heatmapgl": [
                      {
                        "colorbar": {
                          "outlinewidth": 0,
                          "ticks": ""
                        },
                        "colorscale": [
                          [
                            0,
                            "#0d0887"
                          ],
                          [
                            0.1111111111111111,
                            "#46039f"
                          ],
                          [
                            0.2222222222222222,
                            "#7201a8"
                          ],
                          [
                            0.3333333333333333,
                            "#9c179e"
                          ],
                          [
                            0.4444444444444444,
                            "#bd3786"
                          ],
                          [
                            0.5555555555555556,
                            "#d8576b"
                          ],
                          [
                            0.6666666666666666,
                            "#ed7953"
                          ],
                          [
                            0.7777777777777778,
                            "#fb9f3a"
                          ],
                          [
                            0.8888888888888888,
                            "#fdca26"
                          ],
                          [
                            1,
                            "#f0f921"
                          ]
                        ],
                        "type": "heatmapgl"
                      }
                    ],
                    "histogram": [
                      {
                        "marker": {
                          "pattern": {
                            "fillmode": "overlay",
                            "size": 10,
                            "solidity": 0.2
                          }
                        },
                        "type": "histogram"
                      }
                    ],
                    "histogram2d": [
                      {
                        "colorbar": {
                          "outlinewidth": 0,
                          "ticks": ""
                        },
                        "colorscale": [
                          [
                            0,
                            "#0d0887"
                          ],
                          [
                            0.1111111111111111,
                            "#46039f"
                          ],
                          [
                            0.2222222222222222,
                            "#7201a8"
                          ],
                          [
                            0.3333333333333333,
                            "#9c179e"
                          ],
                          [
                            0.4444444444444444,
                            "#bd3786"
                          ],
                          [
                            0.5555555555555556,
                            "#d8576b"
                          ],
                          [
                            0.6666666666666666,
                            "#ed7953"
                          ],
                          [
                            0.7777777777777778,
                            "#fb9f3a"
                          ],
                          [
                            0.8888888888888888,
                            "#fdca26"
                          ],
                          [
                            1,
                            "#f0f921"
                          ]
                        ],
                        "type": "histogram2d"
                      }
                    ],
                    "histogram2dcontour": [
                      {
                        "colorbar": {
                          "outlinewidth": 0,
                          "ticks": ""
                        },
                        "colorscale": [
                          [
                            0,
                            "#0d0887"
                          ],
                          [
                            0.1111111111111111,
                            "#46039f"
                          ],
                          [
                            0.2222222222222222,
                            "#7201a8"
                          ],
                          [
                            0.3333333333333333,
                            "#9c179e"
                          ],
                          [
                            0.4444444444444444,
                            "#bd3786"
                          ],
                          [
                            0.5555555555555556,
                            "#d8576b"
                          ],
                          [
                            0.6666666666666666,
                            "#ed7953"
                          ],
                          [
                            0.7777777777777778,
                            "#fb9f3a"
                          ],
                          [
                            0.8888888888888888,
                            "#fdca26"
                          ],
                          [
                            1,
                            "#f0f921"
                          ]
                        ],
                        "type": "histogram2dcontour"
                      }
                    ],
                    "mesh3d": [
                      {
                        "colorbar": {
                          "outlinewidth": 0,
                          "ticks": ""
                        },
                        "type": "mesh3d"
                      }
                    ],
                    "parcoords": [
                      {
                        "line": {
                          "colorbar": {
                            "outlinewidth": 0,
                            "ticks": ""
                          }
                        },
                        "type": "parcoords"
                      }
                    ],
                    "pie": [
                      {
                        "automargin": true,
                        "type": "pie"
                      }
                    ],
                    "scatter": [
                      {
                        "marker": {
                          "colorbar": {
                            "outlinewidth": 0,
                            "ticks": ""
                          }
                        },
                        "type": "scatter"
                      }
                    ],
                    "scatter3d": [
                      {
                        "line": {
                          "colorbar": {
                            "outlinewidth": 0,
                            "ticks": ""
                          }
                        },
                        "marker": {
                          "colorbar": {
                            "outlinewidth": 0,
                            "ticks": ""
                          }
                        },
                        "type": "scatter3d"
                      }
                    ],
                    "scattercarpet": [
                      {
                        "marker": {
                          "colorbar": {
                            "outlinewidth": 0,
                            "ticks": ""
                          }
                        },
                        "type": "scattercarpet"
                      }
                    ],
                    "scattergeo": [
                      {
                        "marker": {
                          "colorbar": {
                            "outlinewidth": 0,
                            "ticks": ""
                          }
                        },
                        "type": "scattergeo"
                      }
                    ],
                    "scattergl": [
                      {
                        "marker": {
                          "colorbar": {
                            "outlinewidth": 0,
                            "ticks": ""
                          }
                        },
                        "type": "scattergl"
                      }
                    ],
                    "scattermapbox": [
                      {
                        "marker": {
                          "colorbar": {
                            "outlinewidth": 0,
                            "ticks": ""
                          }
                        },
                        "type": "scattermapbox"
                      }
                    ],
                    "scatterpolar": [
                      {
                        "marker": {
                          "colorbar": {
                            "outlinewidth": 0,
                            "ticks": ""
                          }
                        },
                        "type": "scatterpolar"
                      }
                    ],
                    "scatterpolargl": [
                      {
                        "marker": {
                          "colorbar": {
                            "outlinewidth": 0,
                            "ticks": ""
                          }
                        },
                        "type": "scatterpolargl"
                      }
                    ],
                    "scatterternary": [
                      {
                        "marker": {
                          "colorbar": {
                            "outlinewidth": 0,
                            "ticks": ""
                          }
                        },
                        "type": "scatterternary"
                      }
                    ],
                    "surface": [
                      {
                        "colorbar": {
                          "outlinewidth": 0,
                          "ticks": ""
                        },
                        "colorscale": [
                          [
                            0,
                            "#0d0887"
                          ],
                          [
                            0.1111111111111111,
                            "#46039f"
                          ],
                          [
                            0.2222222222222222,
                            "#7201a8"
                          ],
                          [
                            0.3333333333333333,
                            "#9c179e"
                          ],
                          [
                            0.4444444444444444,
                            "#bd3786"
                          ],
                          [
                            0.5555555555555556,
                            "#d8576b"
                          ],
                          [
                            0.6666666666666666,
                            "#ed7953"
                          ],
                          [
                            0.7777777777777778,
                            "#fb9f3a"
                          ],
                          [
                            0.8888888888888888,
                            "#fdca26"
                          ],
                          [
                            1,
                            "#f0f921"
                          ]
                        ],
                        "type": "surface"
                      }
                    ],
                    "table": [
                      {
                        "cells": {
                          "fill": {
                            "color": "#EBF0F8"
                          },
                          "line": {
                            "color": "white"
                          }
                        },
                        "header": {
                          "fill": {
                            "color": "#C8D4E3"
                          },
                          "line": {
                            "color": "white"
                          }
                        },
                        "type": "table"
                      }
                    ]
                  },
                  "layout": {
                    "annotationdefaults": {
                      "arrowcolor": "#2a3f5f",
                      "arrowhead": 0,
                      "arrowwidth": 1
                    },
                    "autotypenumbers": "strict",
                    "coloraxis": {
                      "colorbar": {
                        "outlinewidth": 0,
                        "ticks": ""
                      }
                    },
                    "colorscale": {
                      "diverging": [
                        [
                          0,
                          "#8e0152"
                        ],
                        [
                          0.1,
                          "#c51b7d"
                        ],
                        [
                          0.2,
                          "#de77ae"
                        ],
                        [
                          0.3,
                          "#f1b6da"
                        ],
                        [
                          0.4,
                          "#fde0ef"
                        ],
                        [
                          0.5,
                          "#f7f7f7"
                        ],
                        [
                          0.6,
                          "#e6f5d0"
                        ],
                        [
                          0.7,
                          "#b8e186"
                        ],
                        [
                          0.8,
                          "#7fbc41"
                        ],
                        [
                          0.9,
                          "#4d9221"
                        ],
                        [
                          1,
                          "#276419"
                        ]
                      ],
                      "sequential": [
                        [
                          0,
                          "#0d0887"
                        ],
                        [
                          0.1111111111111111,
                          "#46039f"
                        ],
                        [
                          0.2222222222222222,
                          "#7201a8"
                        ],
                        [
                          0.3333333333333333,
                          "#9c179e"
                        ],
                        [
                          0.4444444444444444,
                          "#bd3786"
                        ],
                        [
                          0.5555555555555556,
                          "#d8576b"
                        ],
                        [
                          0.6666666666666666,
                          "#ed7953"
                        ],
                        [
                          0.7777777777777778,
                          "#fb9f3a"
                        ],
                        [
                          0.8888888888888888,
                          "#fdca26"
                        ],
                        [
                          1,
                          "#f0f921"
                        ]
                      ],
                      "sequentialminus": [
                        [
                          0,
                          "#0d0887"
                        ],
                        [
                          0.1111111111111111,
                          "#46039f"
                        ],
                        [
                          0.2222222222222222,
                          "#7201a8"
                        ],
                        [
                          0.3333333333333333,
                          "#9c179e"
                        ],
                        [
                          0.4444444444444444,
                          "#bd3786"
                        ],
                        [
                          0.5555555555555556,
                          "#d8576b"
                        ],
                        [
                          0.6666666666666666,
                          "#ed7953"
                        ],
                        [
                          0.7777777777777778,
                          "#fb9f3a"
                        ],
                        [
                          0.8888888888888888,
                          "#fdca26"
                        ],
                        [
                          1,
                          "#f0f921"
                        ]
                      ]
                    },
                    "colorway": [
                      "#636efa",
                      "#EF553B",
                      "#00cc96",
                      "#ab63fa",
                      "#FFA15A",
                      "#19d3f3",
                      "#FF6692",
                      "#B6E880",
                      "#FF97FF",
                      "#FECB52"
                    ],
                    "font": {
                      "color": "#2a3f5f"
                    },
                    "geo": {
                      "bgcolor": "white",
                      "lakecolor": "white",
                      "landcolor": "#E5ECF6",
                      "showlakes": true,
                      "showland": true,
                      "subunitcolor": "white"
                    },
                    "hoverlabel": {
                      "align": "left"
                    },
                    "hovermode": "closest",
                    "mapbox": {
                      "style": "light"
                    },
                    "paper_bgcolor": "white",
                    "plot_bgcolor": "#E5ECF6",
                    "polar": {
                      "angularaxis": {
                        "gridcolor": "white",
                        "linecolor": "white",
                        "ticks": ""
                      },
                      "bgcolor": "#E5ECF6",
                      "radialaxis": {
                        "gridcolor": "white",
                        "linecolor": "white",
                        "ticks": ""
                      }
                    },
                    "scene": {
                      "xaxis": {
                        "backgroundcolor": "#E5ECF6",
                        "gridcolor": "white",
                        "gridwidth": 2,
                        "linecolor": "white",
                        "showbackground": true,
                        "ticks": "",
                        "zerolinecolor": "white"
                      },
                      "yaxis": {
                        "backgroundcolor": "#E5ECF6",
                        "gridcolor": "white",
                        "gridwidth": 2,
                        "linecolor": "white",
                        "showbackground": true,
                        "ticks": "",
                        "zerolinecolor": "white"
                      },
                      "zaxis": {
                        "backgroundcolor": "#E5ECF6",
                        "gridcolor": "white",
                        "gridwidth": 2,
                        "linecolor": "white",
                        "showbackground": true,
                        "ticks": "",
                        "zerolinecolor": "white"
                      }
                    },
                    "shapedefaults": {
                      "line": {
                        "color": "#2a3f5f"
                      }
                    },
                    "ternary": {
                      "aaxis": {
                        "gridcolor": "white",
                        "linecolor": "white",
                        "ticks": ""
                      },
                      "baxis": {
                        "gridcolor": "white",
                        "linecolor": "white",
                        "ticks": ""
                      },
                      "bgcolor": "#E5ECF6",
                      "caxis": {
                        "gridcolor": "white",
                        "linecolor": "white",
                        "ticks": ""
                      }
                    },
                    "title": {
                      "x": 0.05
                    },
                    "xaxis": {
                      "automargin": true,
                      "gridcolor": "white",
                      "linecolor": "white",
                      "ticks": "",
                      "title": {
                        "standoff": 15
                      },
                      "zerolinecolor": "white",
                      "zerolinewidth": 2
                    },
                    "yaxis": {
                      "automargin": true,
                      "gridcolor": "white",
                      "linecolor": "white",
                      "ticks": "",
                      "title": {
                        "standoff": 15
                      },
                      "zerolinecolor": "white",
                      "zerolinewidth": 2
                    }
                  }
                },
                "xaxis": {
                  "anchor": "y",
                  "domain": [
                    0,
                    1
                  ],
                  "title": {
                    "text": "hour"
                  }
                },
                "yaxis": {
                  "anchor": "x",
                  "domain": [
                    0,
                    1
                  ],
                  "title": {
                    "text": "O3 Value"
                  }
                }
              }
            }
          },
          "metadata": {},
          "output_type": "display_data"
        }
      ],
      "source": [
        "def remove_h(x):\n",
        "    x = str(x)\n",
        "    return int(x[0:-1])\n",
        "grouped_hour = air_quality.groupby([\"read_hour\", \"Station\"], as_index = False)[\"O3 Value\", \"NO2 Value\", \"PM10 Value\"].mean()\n",
        "grouped_hour[\"hour\"] = grouped_hour[\"read_hour\"].apply(remove_h)\n",
        "grouped_hour.sort_values(by = [\"hour\", \"Station\"], inplace=True)\n",
        "fig = px.line(grouped_hour, x = \"hour\", y = \"O3 Value\", color = \"Station\")\n",
        "fig.show()"
      ]
    }
  ],
  "metadata": {
    "colab": {
      "name": "3-Python Fundamentals from Colab.ipynb",
      "provenance": []
    },
    "kernelspec": {
      "display_name": "Python 3",
      "name": "python3"
    },
    "language_info": {
      "codemirror_mode": {
        "name": "ipython",
        "version": 3
      },
      "file_extension": ".py",
      "mimetype": "text/x-python",
      "name": "python",
      "nbconvert_exporter": "python",
      "pygments_lexer": "ipython3",
      "version": "3.10.1"
    }
  },
  "nbformat": 4,
  "nbformat_minor": 0
}
